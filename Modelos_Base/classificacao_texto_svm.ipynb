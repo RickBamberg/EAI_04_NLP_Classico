{
 "cells": [
  {
   "cell_type": "markdown",
   "id": "33428f08-7284-44b5-a7cb-5b480a027355",
   "metadata": {},
   "source": [
    "# Classificação de Sentimentos com SVM\n",
    "\n",
    "Este notebook demonstra a aplicação de técnicas clássicas de Processamento de Linguagem Natural (NLP) para realizar a **classificação de sentimentos** em frases utilizando o modelo **SVM (Support Vector Machine)**.\n",
    "\n",
    "Serão utilizados dois vetorizadores de texto:\n",
    "- **Bag of Words (BoW)**\n",
    "- **TF-IDF (Term Frequency-Inverse Document Frequency)**\n",
    "\n",
    "E compararemos seus desempenhos na tarefa de classificar frases em **positivo** ou **negativo**.\n"
   ]
  },
  {
   "cell_type": "markdown",
   "id": "f973581b-4623-48b6-a606-bf36e9aadbeb",
   "metadata": {},
   "source": [
    "### 1. Importações e Configuração Inicial"
   ]
  },
  {
   "cell_type": "code",
   "execution_count": 1,
   "id": "dac6d8a0-ea5b-4285-884c-7f756213b743",
   "metadata": {},
   "outputs": [],
   "source": [
    "import pandas as pd\n",
    "import numpy as np\n",
    "import matplotlib.pyplot as plt\n",
    "import seaborn as sns\n",
    "\n",
    "from sklearn.model_selection import train_test_split\n",
    "from sklearn.feature_extraction.text import CountVectorizer, TfidfVectorizer\n",
    "from sklearn.svm import LinearSVC\n",
    "from sklearn.metrics import classification_report, accuracy_score"
   ]
  },
  {
   "cell_type": "markdown",
   "id": "895d2418-b728-492b-9200-d64280fddec5",
   "metadata": {},
   "source": [
    "## 2. Carregamento dos Dados\n",
    "\n",
    "Utilizaremos um conjunto de frases sintéticas, criadas para representar sentimentos positivos e negativos. Esse dataset contém frases simples e claras com uma coluna de **texto** e outra com a **classe alvo** (`sentimento`)."
   ]
  },
  {
   "cell_type": "code",
   "execution_count": 25,
   "id": "2eec51d5-7fef-4856-b4e1-d1bba454dc80",
   "metadata": {},
   "outputs": [
    {
     "data": {
      "text/html": [
       "<div>\n",
       "<style scoped>\n",
       "    .dataframe tbody tr th:only-of-type {\n",
       "        vertical-align: middle;\n",
       "    }\n",
       "\n",
       "    .dataframe tbody tr th {\n",
       "        vertical-align: top;\n",
       "    }\n",
       "\n",
       "    .dataframe thead th {\n",
       "        text-align: right;\n",
       "    }\n",
       "</style>\n",
       "<table border=\"1\" class=\"dataframe\">\n",
       "  <thead>\n",
       "    <tr style=\"text-align: right;\">\n",
       "      <th></th>\n",
       "      <th>texto</th>\n",
       "      <th>sentimento</th>\n",
       "    </tr>\n",
       "  </thead>\n",
       "  <tbody>\n",
       "    <tr>\n",
       "      <th>0</th>\n",
       "      <td>Não compraria novamente</td>\n",
       "      <td>negativo</td>\n",
       "    </tr>\n",
       "    <tr>\n",
       "      <th>1</th>\n",
       "      <td>Chegou danificado</td>\n",
       "      <td>negativo</td>\n",
       "    </tr>\n",
       "    <tr>\n",
       "      <th>2</th>\n",
       "      <td>Experiência ruim</td>\n",
       "      <td>negativo</td>\n",
       "    </tr>\n",
       "    <tr>\n",
       "      <th>3</th>\n",
       "      <td>Perfeito para o que eu precisava</td>\n",
       "      <td>positivo</td>\n",
       "    </tr>\n",
       "    <tr>\n",
       "      <th>4</th>\n",
       "      <td>Tudo certo com a entrega</td>\n",
       "      <td>positivo</td>\n",
       "    </tr>\n",
       "  </tbody>\n",
       "</table>\n",
       "</div>"
      ],
      "text/plain": [
       "                              texto sentimento\n",
       "0           Não compraria novamente   negativo\n",
       "1                 Chegou danificado   negativo\n",
       "2                  Experiência ruim   negativo\n",
       "3  Perfeito para o que eu precisava   positivo\n",
       "4          Tudo certo com a entrega   positivo"
      ]
     },
     "execution_count": 25,
     "metadata": {},
     "output_type": "execute_result"
    }
   ],
   "source": [
    "df = pd.read_csv(\"data/frases_sentimentos.csv\")\n",
    "df.head()"
   ]
  },
  {
   "cell_type": "markdown",
   "id": "f7ea56d8-4a16-4b4a-b629-e02619bf6468",
   "metadata": {},
   "source": [
    "## 3. Pré-processamento\n",
    "\n",
    "As frases foram pré-processadas com:\n",
    "- Conversão para minúsculas\n",
    "- Remoção de pontuações\n",
    "- Remoção de acentos\n",
    "\n",
    "Esse tipo de limpeza ajuda a reduzir a dimensionalidade e melhorar a qualidade da vetorização textual."
   ]
  },
  {
   "cell_type": "markdown",
   "id": "9c35d723-d420-4abf-bb76-cb33c24f3313",
   "metadata": {},
   "source": [
    "## 4. Separação dos Dados\n",
    "\n",
    "Dividimos os dados em **conjunto de treino** e **conjunto de teste**, mantendo o balanceamento entre as classes com o parâmetro `stratify`.\n",
    "\n",
    "- **80% para treino**\n",
    "- **20% para teste**"
   ]
  },
  {
   "cell_type": "code",
   "execution_count": 26,
   "id": "271be459-093a-4100-8e89-52a691b54126",
   "metadata": {},
   "outputs": [],
   "source": [
    "X = df['texto']\n",
    "y = df['sentimento']\n",
    "\n",
    "X_train, X_test, y_train, y_test = train_test_split(\n",
    "    X, y, test_size=0.2, random_state=42, stratify=y\n",
    ")"
   ]
  },
  {
   "cell_type": "markdown",
   "id": "b47e7a18-f537-4056-bef4-d9f00edd3e96",
   "metadata": {},
   "source": [
    "## 5. Vetorização - Bag of Words\n",
    "\n",
    "Transformamos as frases em vetores numéricos utilizando o método **Bag of Words**, que conta a frequência de palavras em cada frase."
   ]
  },
  {
   "cell_type": "code",
   "execution_count": 19,
   "id": "6e1a685d-75d4-4af1-a563-6666ea398e85",
   "metadata": {},
   "outputs": [],
   "source": [
    "vectorizer_bow = CountVectorizer()\n",
    "X_train_bow = vectorizer_bow.fit_transform(X_train)\n",
    "X_test_bow = vectorizer_bow.transform(X_test)\n",
    "\n",
    "svm_bow = LinearSVC()\n",
    "svm_bow.fit(X_train_bow, y_train)\n",
    "y_pred_bow = svm_bow.predict(X_test_bow)"
   ]
  },
  {
   "cell_type": "markdown",
   "id": "21f0e823-1d8e-4560-8b31-c67579df1cb0",
   "metadata": {},
   "source": [
    "## 6. Treinamento com SVM (BoW)\n",
    "\n",
    "Treinamos um classificador **SVM (Support Vector Machine)** com os vetores de BoW. Em seguida, avaliamos o modelo com métricas de classificação como acurácia, precisão, recall e f1-score."
   ]
  },
  {
   "cell_type": "code",
   "execution_count": 27,
   "id": "1aebe2ab-d0fe-483d-b113-52a82cb3e164",
   "metadata": {},
   "outputs": [
    {
     "name": "stdout",
     "output_type": "stream",
     "text": [
      "Acurácia (BoW): 0.9\n",
      "              precision    recall  f1-score   support\n",
      "\n",
      "    negativo       0.90      0.90      0.90        10\n",
      "    positivo       0.90      0.90      0.90        10\n",
      "\n",
      "    accuracy                           0.90        20\n",
      "   macro avg       0.90      0.90      0.90        20\n",
      "weighted avg       0.90      0.90      0.90        20\n",
      "\n"
     ]
    }
   ],
   "source": [
    "print(\"Acurácia (BoW):\", accuracy_score(y_test, y_pred_bow))\n",
    "print(classification_report(y_test, y_pred_bow))"
   ]
  },
  {
   "cell_type": "markdown",
   "id": "136d5e3c-4f10-4379-8f37-d335975cd006",
   "metadata": {},
   "source": [
    "## 7. Vetorização - TF-IDF\n",
    "\n",
    "Aplicamos agora a vetorização com **TF-IDF**, que pondera as palavras pela frequência nos documentos e penaliza termos muito comuns."
   ]
  },
  {
   "cell_type": "code",
   "execution_count": 21,
   "id": "85168547-35d2-43f2-b746-cdf12568057b",
   "metadata": {},
   "outputs": [],
   "source": [
    "vectorizer_tfidf = TfidfVectorizer()\n",
    "X_train_tfidf = vectorizer_tfidf.fit_transform(X_train)\n",
    "X_test_tfidf = vectorizer_tfidf.transform(X_test)\n",
    "\n",
    "svm_tfidf = LinearSVC()\n",
    "svm_tfidf.fit(X_train_tfidf, y_train)\n",
    "y_pred_tfidf = svm_tfidf.predict(X_test_tfidf)"
   ]
  },
  {
   "cell_type": "markdown",
   "id": "5a9d8a94-38c0-4ed0-9605-2e6d27d175d8",
   "metadata": {},
   "source": [
    "## 8. Treinamento com SVM (TF-IDF)\n",
    "\n",
    "Treinamos o mesmo modelo **SVM**, mas agora com os vetores gerados por TF-IDF. A performance é novamente avaliada com as mesmas métricas."
   ]
  },
  {
   "cell_type": "code",
   "execution_count": 28,
   "id": "91cf21ed-3fc4-4dbc-8036-f184910ca4ec",
   "metadata": {},
   "outputs": [
    {
     "name": "stdout",
     "output_type": "stream",
     "text": [
      "Acurácia (TF-IDF): 0.9\n",
      "              precision    recall  f1-score   support\n",
      "\n",
      "    negativo       0.90      0.90      0.90        10\n",
      "    positivo       0.90      0.90      0.90        10\n",
      "\n",
      "    accuracy                           0.90        20\n",
      "   macro avg       0.90      0.90      0.90        20\n",
      "weighted avg       0.90      0.90      0.90        20\n",
      "\n"
     ]
    }
   ],
   "source": [
    "print(\"Acurácia (TF-IDF):\", accuracy_score(y_test, y_pred_tfidf))\n",
    "print(classification_report(y_test, y_pred_tfidf))"
   ]
  },
  {
   "cell_type": "markdown",
   "id": "1ddda297-0f6c-4e1d-8677-3e24cc5429fa",
   "metadata": {},
   "source": [
    "## 9. Avaliação Comparativa BoW vs TF-IDF\n",
    "\n",
    "Comparamos o desempenho dos dois modelos — um treinado com BoW e outro com TF-IDF — para verificar se há diferença significativa de acurácia."
   ]
  },
  {
   "cell_type": "code",
   "execution_count": 29,
   "id": "c643b445-953f-42e9-a57b-43dc45074e5d",
   "metadata": {},
   "outputs": [
    {
     "data": {
      "image/png": "[encoded data removed]",
      "text/plain": [
       "<Figure size 600x400 with 1 Axes>"
      ]
     },
     "metadata": {},
     "output_type": "display_data"
    }
   ],
   "source": [
    "acc_bow = accuracy_score(y_test, y_pred_bow)\n",
    "acc_tfidf = accuracy_score(y_test, y_pred_tfidf)\n",
    "\n",
    "plt.figure(figsize=(6, 4))\n",
    "sns.barplot(x=[\"BoW\", \"TF-IDF\"], y=[acc_bow, acc_tfidf], hue=[\"BoW\", \"TF-IDF\"], palette=\"viridis\", legend=False)\n",
    "plt.title(\"Comparação de Acurácia - SVM\")\n",
    "plt.ylabel(\"Acurácia\")\n",
    "plt.ylim(0, 1)\n",
    "plt.grid(axis=\"y\", linestyle=\"--\", alpha=0.7)\n",
    "plt.show()"
   ]
  },
  {
   "cell_type": "markdown",
   "id": "8e4cd3aa-780b-4401-9729-73fdf1ee457c",
   "metadata": {},
   "source": [
    "## Conclusão\n",
    "\n",
    "Neste experimento, treinamos dois modelos SVM para classificar sentimentos em frases curtas, utilizando diferentes representações de texto:\n",
    "\n",
    "- **SVM com BoW**: obteve acurácia de **90%**\n",
    "- **SVM com TF-IDF**: também obteve acurácia de **90%**\n",
    "\n",
    "### Observações:\n",
    "- O dataset é pequeno e sintético, mas permite uma boa demonstração dos conceitos de vetorização e classificação.\n",
    "- Ambos os vetorizadores apresentaram o mesmo desempenho, mas em bases reais e mais complexas, o **TF-IDF** tende a ser mais robusto.\n",
    "- O modelo **SVM** se mostrou eficiente mesmo com um número pequeno de amostras e boa separação entre as classes.\n",
    "\n",
    "Este notebook serve como uma base clara para projetos maiores de classificação de sentimentos em português, podendo ser facilmente adaptado para outros contextos e modelos.\n"
   ]
  },
  {
   "cell_type": "code",
   "execution_count": null,
   "id": "850d7baf-adb4-4aec-9cf0-8b44c88e74d4",
   "metadata": {},
   "outputs": [],
   "source": []
  }
 ],
 "metadata": {
  "kernelspec": {
   "display_name": "Python [conda env:base] *",
   "language": "python",
   "name": "conda-base-py"
  },
  "language_info": {
   "codemirror_mode": {
    "name": "ipython",
    "version": 3
   },
   "file_extension": ".py",
   "mimetype": "text/x-python",
   "name": "python",
   "nbconvert_exporter": "python",
   "pygments_lexer": "ipython3",
   "version": "3.12.7"
  }
 },
 "nbformat": 4,
 "nbformat_minor": 5
}
