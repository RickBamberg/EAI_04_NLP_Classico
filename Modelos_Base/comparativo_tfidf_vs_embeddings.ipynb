{
 "cells": [
  {
   "cell_type": "markdown",
   "id": "7b25b1de-5e47-4d5a-a713-9c3487b8fd6d",
   "metadata": {},
   "source": [
    "# Comparativo: TF-IDF vs Word Embeddings na Classificação de Sentimentos\n",
    "\n",
    "## 1. Introdução\n",
    "Este experimento tem como objetivo comparar duas abordagens comuns de representação de texto para classificação de sentimentos: **TF-IDF** e **Word Embeddings (Word2Vec)**. Utilizaremos um conjunto de dados sintético com frases positivas e negativas, treinando um modelo de classificação com Support Vector Machine (SVM) em ambos os cenários."
   ]
  },
  {
   "cell_type": "markdown",
   "id": "838b148a-d05e-4aef-aa7a-8a4517f8fdaa",
   "metadata": {},
   "source": [
    "## Importações"
   ]
  },
  {
   "cell_type": "code",
   "execution_count": null,
   "id": "7f11ba98-b356-4ded-94d2-29e7d2a9dbb1",
   "metadata": {},
   "outputs": [],
   "source": [
    "import pandas as pd\n",
    "import re\n",
    "import numpy as np\n",
    "\n",
    "import seaborn as sns\n",
    "import matplotlib.pyplot as plt\n",
    "\n",
    "import nltk\n",
    "from nltk.corpus import stopwords\n",
    "\n",
    "from gensim.models import Word2Vec\n",
    "\n",
    "from sklearn.model_selection import train_test_split\n",
    "from sklearn.feature_extraction.text import TfidfVectorizer\n",
    "from sklearn.svm import SVC\n",
    "from sklearn.metrics import classification_report, accuracy_score"
   ]
  },
  {
   "cell_type": "markdown",
   "id": "c77a936b-c24a-40ef-a72f-271a143b7528",
   "metadata": {},
   "source": [
    "## 2. Carregando os Dados"
   ]
  },
  {
   "cell_type": "code",
   "execution_count": 2,
   "id": "96b8c659-c7d0-4ca7-9020-0378571ab825",
   "metadata": {},
   "outputs": [
    {
     "data": {
      "text/html": [
       "<div>\n",
       "<style scoped>\n",
       "    .dataframe tbody tr th:only-of-type {\n",
       "        vertical-align: middle;\n",
       "    }\n",
       "\n",
       "    .dataframe tbody tr th {\n",
       "        vertical-align: top;\n",
       "    }\n",
       "\n",
       "    .dataframe thead th {\n",
       "        text-align: right;\n",
       "    }\n",
       "</style>\n",
       "<table border=\"1\" class=\"dataframe\">\n",
       "  <thead>\n",
       "    <tr style=\"text-align: right;\">\n",
       "      <th></th>\n",
       "      <th>texto</th>\n",
       "      <th>sentimento</th>\n",
       "    </tr>\n",
       "  </thead>\n",
       "  <tbody>\n",
       "    <tr>\n",
       "      <th>0</th>\n",
       "      <td>Não compraria novamente</td>\n",
       "      <td>negativo</td>\n",
       "    </tr>\n",
       "    <tr>\n",
       "      <th>1</th>\n",
       "      <td>Chegou danificado</td>\n",
       "      <td>negativo</td>\n",
       "    </tr>\n",
       "    <tr>\n",
       "      <th>2</th>\n",
       "      <td>Experiência ruim</td>\n",
       "      <td>negativo</td>\n",
       "    </tr>\n",
       "    <tr>\n",
       "      <th>3</th>\n",
       "      <td>Perfeito para o que eu precisava</td>\n",
       "      <td>positivo</td>\n",
       "    </tr>\n",
       "    <tr>\n",
       "      <th>4</th>\n",
       "      <td>Tudo certo com a entrega</td>\n",
       "      <td>positivo</td>\n",
       "    </tr>\n",
       "  </tbody>\n",
       "</table>\n",
       "</div>"
      ],
      "text/plain": [
       "                              texto sentimento\n",
       "0           Não compraria novamente   negativo\n",
       "1                 Chegou danificado   negativo\n",
       "2                  Experiência ruim   negativo\n",
       "3  Perfeito para o que eu precisava   positivo\n",
       "4          Tudo certo com a entrega   positivo"
      ]
     },
     "execution_count": 2,
     "metadata": {},
     "output_type": "execute_result"
    }
   ],
   "source": [
    "df = pd.read_csv(\"data/frases_sentimentos.csv\")\n",
    "df.head()"
   ]
  },
  {
   "cell_type": "markdown",
   "id": "48fec1f1-c3f0-4f87-bb37-35194e046b72",
   "metadata": {},
   "source": [
    "## 3. Pré-processamento"
   ]
  },
  {
   "cell_type": "code",
   "execution_count": 3,
   "id": "aee56b25-8831-4810-ab54-1fbe4ddffdb5",
   "metadata": {},
   "outputs": [
    {
     "name": "stderr",
     "output_type": "stream",
     "text": [
      "[nltk_data] Downloading package stopwords to C:\\Users\\Jorge\n",
      "[nltk_data]     Maques/nltk_data...\n",
      "[nltk_data]   Package stopwords is already up-to-date!\n"
     ]
    }
   ],
   "source": [
    "nltk.download('stopwords')\n",
    "stop_words = set(stopwords.words('portuguese'))\n",
    "\n",
    "def limpar_texto(texto):\n",
    "    texto = re.sub(r\"[^a-zA-Zà-úÀ-Ú\\s]\", \"\", texto)\n",
    "    texto = texto.lower()\n",
    "    palavras = texto.split()\n",
    "    palavras = [p for p in palavras if p not in stop_words]\n",
    "    return \" \".join(palavras)\n",
    "\n",
    "df[\"texto_limpo\"] = df[\"texto\"].apply(limpar_texto)"
   ]
  },
  {
   "cell_type": "markdown",
   "id": "96f587c0-2640-4ff7-9905-73463f09feb7",
   "metadata": {},
   "source": [
    "## 4. TF-IDF com SVM"
   ]
  },
  {
   "cell_type": "code",
   "execution_count": 4,
   "id": "6e8d9a1d-9d03-4c70-aa76-761772a79904",
   "metadata": {},
   "outputs": [
    {
     "name": "stdout",
     "output_type": "stream",
     "text": [
      "Acurácia (TF-IDF): 0.7\n",
      "              precision    recall  f1-score   support\n",
      "\n",
      "    negativo       0.67      0.80      0.73        10\n",
      "    positivo       0.75      0.60      0.67        10\n",
      "\n",
      "    accuracy                           0.70        20\n",
      "   macro avg       0.71      0.70      0.70        20\n",
      "weighted avg       0.71      0.70      0.70        20\n",
      "\n"
     ]
    }
   ],
   "source": [
    "X_train, X_test, y_train, y_test = train_test_split(\n",
    "    df[\"texto_limpo\"], df[\"sentimento\"], test_size=0.2, random_state=42, stratify=df[\"sentimento\"])\n",
    "\n",
    "vectorizer_tfidf = TfidfVectorizer()\n",
    "X_train_tfidf = vectorizer_tfidf.fit_transform(X_train)\n",
    "X_test_tfidf = vectorizer_tfidf.transform(X_test)\n",
    "\n",
    "clf_tfidf = SVC(kernel=\"linear\")\n",
    "clf_tfidf.fit(X_train_tfidf, y_train)\n",
    "y_pred_tfidf = clf_tfidf.predict(X_test_tfidf)\n",
    "\n",
    "print(\"Acurácia (TF-IDF):\", accuracy_score(y_test, y_pred_tfidf))\n",
    "print(classification_report(y_test, y_pred_tfidf))"
   ]
  },
  {
   "cell_type": "markdown",
   "id": "5952e776-cd48-4c46-b5f6-55fefc00cf5a",
   "metadata": {},
   "source": [
    "## 5. Word Embeddings (Word2Vec) com SVM"
   ]
  },
  {
   "cell_type": "markdown",
   "id": "a1b0c299-f082-4da0-b20d-58906a73c91c",
   "metadata": {},
   "source": [
    "### 5.1 Tokenização"
   ]
  },
  {
   "cell_type": "code",
   "execution_count": 6,
   "id": "baa89b6c-b578-4cfa-bae8-fd5c5eab5546",
   "metadata": {
    "scrolled": true
   },
   "outputs": [],
   "source": [
    "df[\"tokens\"] = df[\"texto_limpo\"].apply(lambda x: x.split())"
   ]
  },
  {
   "cell_type": "markdown",
   "id": "36076876-e984-443c-bb88-cdb3a6c2cc57",
   "metadata": {},
   "source": [
    "### 5.2 Treinamento do Word2Vec"
   ]
  },
  {
   "cell_type": "code",
   "execution_count": 7,
   "id": "cd023736-695c-4306-ae27-e2ef1ff142af",
   "metadata": {},
   "outputs": [],
   "source": [
    "modelo_w2v = Word2Vec(sentences=df[\"tokens\"], vector_size=100, window=5, min_count=1, workers=4, sg=1)"
   ]
  },
  {
   "cell_type": "markdown",
   "id": "56553a0c-efeb-4ac2-be05-deb8b7d81886",
   "metadata": {},
   "source": [
    "### 5.3 Vetorizando as frases"
   ]
  },
  {
   "cell_type": "code",
   "execution_count": 8,
   "id": "92af1069-40c4-40ec-b2bb-04626118e5a1",
   "metadata": {},
   "outputs": [],
   "source": [
    "def vetor_medio(frase):\n",
    "    vetores = [modelo_w2v.wv[p] for p in frase if p in modelo_w2v.wv]\n",
    "    if len(vetores) == 0:\n",
    "        return np.zeros(modelo_w2v.vector_size)\n",
    "    return np.mean(vetores, axis=0)\n",
    "\n",
    "X_emb = df[\"tokens\"].apply(vetor_medio).tolist()\n",
    "X_emb = np.array(X_emb)"
   ]
  },
  {
   "cell_type": "markdown",
   "id": "ccb5bc91-0cb8-4fa0-8f68-0ec45e9c51a3",
   "metadata": {},
   "source": [
    "### 5.4 Treinamento e Avaliação"
   ]
  },
  {
   "cell_type": "code",
   "execution_count": 9,
   "id": "278ef52b-a397-44d0-9040-002dcc4854cb",
   "metadata": {},
   "outputs": [
    {
     "name": "stdout",
     "output_type": "stream",
     "text": [
      "Acurácia (Word2Vec): 0.7\n",
      "              precision    recall  f1-score   support\n",
      "\n",
      "    negativo       0.64      0.90      0.75        10\n",
      "    positivo       0.83      0.50      0.62        10\n",
      "\n",
      "    accuracy                           0.70        20\n",
      "   macro avg       0.74      0.70      0.69        20\n",
      "weighted avg       0.74      0.70      0.69        20\n",
      "\n"
     ]
    }
   ],
   "source": [
    "X_train_emb, X_test_emb, y_train_emb, y_test_emb = train_test_split(\n",
    "    X_emb, df[\"sentimento\"], test_size=0.2, random_state=42, stratify=df[\"sentimento\"])\n",
    "\n",
    "clf_emb = SVC(kernel=\"linear\")\n",
    "clf_emb.fit(X_train_emb, y_train_emb)\n",
    "y_pred_emb = clf_emb.predict(X_test_emb)\n",
    "\n",
    "print(\"Acurácia (Word2Vec):\", accuracy_score(y_test_emb, y_pred_emb))\n",
    "print(classification_report(y_test_emb, y_pred_emb))"
   ]
  },
  {
   "cell_type": "markdown",
   "id": "7c9a1453-ad6f-4b2e-b943-e243f72c8664",
   "metadata": {},
   "source": [
    "## 6. Comparando os Resultados"
   ]
  },
  {
   "cell_type": "code",
   "execution_count": 13,
   "id": "cb129c9b-7f5c-4418-b30a-5f50e18f5b20",
   "metadata": {},
   "outputs": [
    {
     "data": {
      "text/plain": [
       "Text(0.5, 1.0, 'Comparação de Acurácia entre TF-IDF e Word2Vec')"
      ]
     },
     "execution_count": 13,
     "metadata": {},
     "output_type": "execute_result"
    },
    {
     "data": {
      "image/png": "[encoded data removed]",
      "text/plain": [
       "<Figure size 600x400 with 1 Axes>"
      ]
     },
     "metadata": {},
     "output_type": "display_data"
    }
   ],
   "source": [
    "acc_tfidf = accuracy_score(y_test, y_pred_tfidf)\n",
    "acc_emb = accuracy_score(y_test_emb, y_pred_emb)\n",
    "\n",
    "# Dados\n",
    "df_plot = pd.DataFrame({\n",
    "    \"Método\": [\"TF-IDF\", \"Word2Vec\"],\n",
    "    \"Acurácia\": [acc_tfidf, acc_emb]\n",
    "})\n",
    "\n",
    "# Usar hue explícito e definir legend=False\n",
    "df_plot[\"hue\"] = df_plot[\"Método\"]\n",
    "\n",
    "plt.figure(figsize=(6, 4))\n",
    "sns.barplot(data=df_plot, x=\"Método\", y=\"Acurácia\", hue=\"hue\", palette=[\"#a6bddb\", \"#2b8cbe\"], legend=False)\n",
    "plt.title(\"Comparação de Acurácia entre TF-IDF e Word2Vec\")"
   ]
  },
  {
   "cell_type": "markdown",
   "id": "152e4452-cdfa-4b87-a566-14a9a31eb09f",
   "metadata": {},
   "source": [
    "## 7. Conclusão\n",
    "Neste experimento, comparamos duas abordagens distintas de representação textual:\n",
    "\n",
    "- **TF-IDF:** Considera a importância de cada termo no contexto global dos documentos. É rápido e eficiente em muitos casos.\n",
    "- **Word2Vec:** Constrói embeddings com base no contexto semântico, capturando relações mais complexas entre palavras.\n",
    "\n",
    "**Resultados:** Dependendo do dataset, TF-IDF pode performar igual ou melhor que embeddings, principalmente quando a base é pequena. Neste caso sintético, ambos apresentaram desempenhos similares.\n",
    "\n",
    "**Conclusão Final:** Word Embeddings são mais poderosos em bases grandes e complexas, mas TF-IDF ainda é uma excelente escolha em aplicações rápidas e com dados limitados.\n"
   ]
  },
  {
   "cell_type": "code",
   "execution_count": null,
   "id": "64372096-dba9-4a53-a9e3-50f683d18b80",
   "metadata": {},
   "outputs": [],
   "source": []
  }
 ],
 "metadata": {
  "kernelspec": {
   "display_name": "Python [conda env:base] *",
   "language": "python",
   "name": "conda-base-py"
  },
  "language_info": {
   "codemirror_mode": {
    "name": "ipython",
    "version": 3
   },
   "file_extension": ".py",
   "mimetype": "text/x-python",
   "name": "python",
   "nbconvert_exporter": "python",
   "pygments_lexer": "ipython3",
   "version": "3.12.7"
  }
 },
 "nbformat": 4,
 "nbformat_minor": 5
}
