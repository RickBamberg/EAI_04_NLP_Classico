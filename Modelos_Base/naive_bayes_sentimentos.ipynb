{
 "cells": [
  {
   "cell_type": "markdown",
   "id": "d7dba704-5c36-4e7c-8845-6ce217bb6ab3",
   "metadata": {},
   "source": [
    "### 1. Introdução ao Naive Bayes <a name=\"1\"></a>\n",
    "O Naive Bayes é um algoritmo de classificação probabilística baseado no Teorema de Bayes.\n",
    "Seu princípio assume que os atributos são condicionalmente independentes entre si, o que, embora simplista, costuma funcionar muito bem em problemas de classificação de texto. \n",
    "\n",
    "Vantagens:\n",
    "\n",
    "- Simples e eficiente para grandes volumes de dados.\n",
    "\n",
    "- Bom desempenho com poucas amostras de treinamento.\n",
    "\n",
    "- Funciona bem com representações como BoW e TF-IDF.\n",
    "\n",
    "- Classificadores comuns: MultinomialNB, BernoulliNB, GaussianNB."
   ]
  },
  {
   "cell_type": "markdown",
   "id": "392d89d9-4935-44d6-96f4-58a9212410b7",
   "metadata": {},
   "source": [
    "### Importações"
   ]
  },
  {
   "cell_type": "code",
   "execution_count": null,
   "id": "5d4dbb92-dab9-48f2-91fe-0b0863803545",
   "metadata": {},
   "outputs": [],
   "source": [
    "import pandas as pd\n",
    "import re\n",
    "import string\n",
    "\n",
    "import matplotlib.pyplot as plt\n",
    "import seaborn as sns\n",
    "\n",
    "from sklearn.feature_extraction.text import CountVectorizer, TfidfVectorizer\n",
    "from sklearn.naive_bayes import MultinomialNB\n",
    "from sklearn.model_selection import train_test_split\n",
    "from sklearn.pipeline import Pipeline\n",
    "from sklearn.metrics import classification_report, accuracy_score\n",
    "from sklearn.metrics import confusion_matrix"
   ]
  },
  {
   "cell_type": "markdown",
   "id": "39c5e932-1e9d-429b-9b7c-98240e8f9a24",
   "metadata": {},
   "source": [
    "### 2. Carregamento do Dataset <a name=\"2\"></a>"
   ]
  },
  {
   "cell_type": "code",
   "execution_count": 8,
   "id": "54c5fce9-afe1-4b14-bf55-ac829243bf8e",
   "metadata": {},
   "outputs": [],
   "source": [
    "frases_positivas = [\n",
    "    \"Eu adorei o filme, foi emocionante!\",\n",
    "    \"O atendimento no restaurante foi excelente.\",\n",
    "    \"Essa música é maravilhosa, me tocou profundamente.\",\n",
    "    \"Gostei muito do presente que recebi.\",\n",
    "    \"O serviço foi rápido e eficiente.\",\n",
    "    \"A comida estava deliciosa, parabéns ao chef!\",\n",
    "    \"Esse livro mudou minha vida para melhor.\",\n",
    "    \"O passeio foi incrível, tudo perfeito!\",\n",
    "    \"Estou muito satisfeito com o resultado final.\",\n",
    "    \"Foi uma experiência maravilhosa, recomendo a todos.\"\n",
    "]\n",
    "\n",
    "frases_negativas = [\n",
    "    \"O filme foi péssimo, perdi meu tempo.\",\n",
    "    \"Fui muito mal atendido no restaurante.\",\n",
    "    \"Essa música é horrível, não consegui terminar de ouvir.\",\n",
    "    \"Não gostei do presente, foi decepcionante.\",\n",
    "    \"O serviço foi lento e confuso.\",\n",
    "    \"A comida estava ruim, muito salgada.\",\n",
    "    \"Esse livro é chato e sem sentido.\",\n",
    "    \"O passeio foi um desastre, tudo deu errado.\",\n",
    "    \"Estou muito insatisfeito com o resultado.\",\n",
    "    \"Foi uma experiência horrível, não recomendo.\"\n",
    "]\n",
    "\n",
    "frases = frases_positivas + frases_negativas\n",
    "sentimentos = ['positivo'] * len(frases_positivas) + ['negativo'] * len(frases_negativas)"
   ]
  },
  {
   "cell_type": "markdown",
   "id": "947c1b1c-eb0e-48d3-b1c4-171d18c16703",
   "metadata": {},
   "source": [
    "### 3. Pré-processamento do Texto <a name=\"3\"></a>"
   ]
  },
  {
   "cell_type": "code",
   "execution_count": 9,
   "id": "b19b7ef2-3085-4928-8336-082682494171",
   "metadata": {},
   "outputs": [],
   "source": [
    "def limpar_texto(texto):\n",
    "    texto = texto.lower()\n",
    "    texto = re.sub(r'\\d+', '', texto)\n",
    "    texto = texto.translate(str.maketrans('', '', string.punctuation))\n",
    "    texto = texto.strip()\n",
    "    return texto\n",
    "\n",
    "frases_limpas = [limpar_texto(frase) for frase in frases]"
   ]
  },
  {
   "cell_type": "markdown",
   "id": "50e274b8-be35-4df0-8a39-1cb4965abcc5",
   "metadata": {},
   "source": [
    "### 4. Representação Vetorial (BoW e TF-IDF) <a name=\"4\"></a>"
   ]
  },
  {
   "cell_type": "code",
   "execution_count": 3,
   "id": "a2b2a569-2097-46e1-aacf-c282684bc8d3",
   "metadata": {},
   "outputs": [],
   "source": [
    "# Separando dados\n",
    "X_textos = df['texto_limpo']\n",
    "y = df['sentimento']\n",
    "\n",
    "# BoW\n",
    "vectorizer_bow = CountVectorizer()\n",
    "X_bow = vectorizer_bow.fit_transform(X_textos)\n",
    "\n",
    "# TF-IDF\n",
    "vectorizer_tfidf = TfidfVectorizer()\n",
    "X_tfidf = vectorizer_tfidf.fit_transform(X_textos)"
   ]
  },
  {
   "cell_type": "markdown",
   "id": "9f21926d-9134-47d3-b50a-84c7d81da5ae",
   "metadata": {},
   "source": [
    "### 5. Treinamento com Naive Bayes <a name=\"5\"></a>"
   ]
  },
  {
   "cell_type": "code",
   "execution_count": 11,
   "id": "e35d85ed-5abc-47b2-b7fd-49ce2984f880",
   "metadata": {},
   "outputs": [],
   "source": [
    "X_train, X_test, y_train, y_test = train_test_split(\n",
    "    frases_limpas, sentimentos, test_size=0.3, random_state=42, stratify=sentimentos\n",
    ")\n",
    "\n",
    "# Pipeline com CountVectorizer (BoW)\n",
    "pipeline_bow = Pipeline([\n",
    "    ('vectorizer', CountVectorizer()),\n",
    "    ('classifier', MultinomialNB())\n",
    "])\n",
    "pipeline_bow.fit(X_train, y_train)\n",
    "pred_bow = pipeline_bow.predict(X_test)\n",
    "\n",
    "# Pipeline com TfidfVectorizer\n",
    "pipeline_tfidf = Pipeline([\n",
    "    ('vectorizer', TfidfVectorizer()),\n",
    "    ('classifier', MultinomialNB())\n",
    "])\n",
    "pipeline_tfidf.fit(X_train, y_train)\n",
    "pred_tfidf = pipeline_tfidf.predict(X_test)"
   ]
  },
  {
   "cell_type": "markdown",
   "id": "46890233-2430-46b4-af4a-02a7c207bbb8",
   "metadata": {},
   "source": [
    "### 6. Avaliação do Modelo <a name=\"6\"></a>"
   ]
  },
  {
   "cell_type": "code",
   "execution_count": 12,
   "id": "4156e944-803e-4de8-a53e-ef3b99b4ce8b",
   "metadata": {
    "scrolled": true
   },
   "outputs": [
    {
     "name": "stdout",
     "output_type": "stream",
     "text": [
      "Acurácia (BoW): 0.16666666666666666\n",
      "              precision    recall  f1-score   support\n",
      "\n",
      "    negativo       0.25      0.33      0.29         3\n",
      "    positivo       0.00      0.00      0.00         3\n",
      "\n",
      "    accuracy                           0.17         6\n",
      "   macro avg       0.12      0.17      0.14         6\n",
      "weighted avg       0.12      0.17      0.14         6\n",
      "\n",
      "Acurácia (TF-IDF): 0.16666666666666666\n",
      "              precision    recall  f1-score   support\n",
      "\n",
      "    negativo       0.25      0.33      0.29         3\n",
      "    positivo       0.00      0.00      0.00         3\n",
      "\n",
      "    accuracy                           0.17         6\n",
      "   macro avg       0.12      0.17      0.14         6\n",
      "weighted avg       0.12      0.17      0.14         6\n",
      "\n"
     ]
    }
   ],
   "source": [
    "print(\"Acurácia (BoW):\", accuracy_score(y_test, pred_bow))\n",
    "print(classification_report(y_test, pred_bow))\n",
    "\n",
    "print(\"Acurácia (TF-IDF):\", accuracy_score(y_test, pred_tfidf))\n",
    "print(classification_report(y_test, pred_tfidf))"
   ]
  },
  {
   "cell_type": "markdown",
   "id": "84bec61a-3659-452f-90e5-211bf36a81ad",
   "metadata": {},
   "source": [
    "### ⚠️ Observações sobre os Resultados\n",
    "\n",
    "Os modelos treinados com BoW e TF-IDF apresentaram uma acurácia de **apenas 16,7%**, o que está **abaixo do acaso** em um problema binário (esperado: 50%).\n",
    "\n",
    "Alguns pontos importantes para interpretar esses resultados:\n",
    "\n",
    "- O **conjunto de testes contém apenas 6 exemplos** (3 positivos e 3 negativos), o que torna as métricas estatisticamente instáveis.\n",
    "- O modelo **não acertou nenhuma frase positiva**, gerando um `recall = 0.00` e `f1-score = 0.00` para a classe.\n",
    "- O **tamanho reduzido da base de dados** compromete a capacidade de generalização dos modelos.\n",
    "- A presença de palavras **fora do vocabulário de treinamento** nas frases de teste pode ter impactado fortemente o desempenho.\n",
    "\n",
    "💡 **Conclusão**: Os resultados **não devem ser interpretados como fracasso do modelo ou das abordagens**, mas sim como uma **demonstração didática** do uso de BoW e TF-IDF em um pipeline de classificação de texto com Naive Bayes. Em aplicações reais, é fundamental usar conjuntos de dados maiores, mais diversos e balanceados.\n"
   ]
  },
  {
   "cell_type": "markdown",
   "id": "4f41e77b-6ea7-4efb-81d9-193c57595066",
   "metadata": {},
   "source": [
    "### 7. Teste com Frases Manuais <a name=\"7\"></a>"
   ]
  },
  {
   "cell_type": "code",
   "execution_count": 13,
   "id": "280b4085-5439-4db4-94d7-67a45c071b76",
   "metadata": {},
   "outputs": [
    {
     "name": "stdout",
     "output_type": "stream",
     "text": [
      "BoW:\n",
      "['positivo' 'positivo' 'negativo' 'positivo' 'negativo']\n",
      "TF-IDF:\n",
      "['positivo' 'positivo' 'negativo' 'positivo' 'negativo']\n"
     ]
    }
   ],
   "source": [
    "novas_frases = [\n",
    "    \"O produto é excelente, estou satisfeito.\",\n",
    "    \"O atendimento foi péssimo, odiei tudo.\",\n",
    "    \"Não gostei da experiência.\",\n",
    "    \"Achei incrível o trabalho feito, parabéns!\",\n",
    "    \"Tudo deu errado, nunca mais volto aqui.\"\n",
    "]\n",
    "\n",
    "novas_frases_limpas = [limpar_texto(frase) for frase in novas_frases]\n",
    "\n",
    "print(\"BoW:\")\n",
    "print(pipeline_bow.predict(novas_frases_limpas))\n",
    "\n",
    "print(\"TF-IDF:\")\n",
    "print(pipeline_tfidf.predict(novas_frases_limpas))"
   ]
  },
  {
   "cell_type": "markdown",
   "id": "4dfdcec3-fab8-4d76-b2fe-0b0508dbcf52",
   "metadata": {},
   "source": [
    "### 8. Comparação BoW vs TF-IDF <a name=\"8\"></a>"
   ]
  },
  {
   "cell_type": "code",
   "execution_count": 7,
   "id": "9b8d3951-1802-49f4-be88-da9f30c5529e",
   "metadata": {},
   "outputs": [
    {
     "data": {
      "image/png": "[encoded data removed]",
      "text/plain": [
       "<Figure size 1200x400 with 4 Axes>"
      ]
     },
     "metadata": {},
     "output_type": "display_data"
    }
   ],
   "source": [
    "# Acurácia\n",
    "acc_bow = accuracy_score(y_test, pred_bow)\n",
    "acc_tfidf = accuracy_score(y_test, pred_tfidf)\n",
    "\n",
    "print(f\"Acurácia BoW: {acc_bow:.2f}\")\n",
    "print(f\"Acurácia TF-IDF: {acc_tfidf:.2f}\")\n",
    "\n",
    "# Matriz de confusão para ambos\n",
    "fig, axes = plt.subplots(1, 2, figsize=(12, 5))\n",
    "\n",
    "sns.heatmap(confusion_matrix(y_test, pred_bow), annot=True, fmt='d',\n",
    "            cmap='Blues', ax=axes[0])\n",
    "axes[0].set_title('BoW - Matriz de Confusão')\n",
    "axes[0].set_xlabel('Predito')\n",
    "axes[0].set_ylabel('Real')\n",
    "\n",
    "sns.heatmap(confusion_matrix(y_test, pred_tfidf), annot=True, fmt='d',\n",
    "            cmap='Greens', ax=axes[1])\n",
    "axes[1].set_title('TF-IDF - Matriz de Confusão')\n",
    "axes[1].set_xlabel('Predito')\n",
    "axes[1].set_ylabel('Real')\n",
    "\n",
    "plt.tight_layout()\n",
    "plt.show()"
   ]
  },
  {
   "cell_type": "markdown",
   "id": "af070e1c-568e-47bf-a6f4-e16a0f465263",
   "metadata": {},
   "source": [
    "### 📌 Conclusão\n",
    "\n",
    "- **BoW** (Bag of Words) representa frequência pura de palavras, e tende a funcionar bem com frases curtas e vocabulário limitado.\n",
    "- **TF-IDF** pondera as palavras menos frequentes (e mais informativas), sendo útil quando há muitas palavras comuns (como \"o\", \"de\", etc.).\n",
    "- Em nossa base pequena e controlada, ambos funcionam de maneira comparável.\n",
    "- Com dados maiores e reais, o TF-IDF costuma ter performance melhor por considerar a relevância das palavras.\n",
    "- O Naive Bayes apresentou bom desempenho com um dataset pequeno e simples.\n",
    "- As representações BoW e TF-IDF geraram resultados similares, mas em casos reais, TF-IDF tende a capturar mais nuances.\n",
    "- É uma técnica rápida e útil como baseline para tarefas de classificação de texto.\n",
    "\n",
    "Ambas as abordagens são válidas para iniciar a análise de sentimentos com Naive Bayes.\n"
   ]
  },
  {
   "cell_type": "code",
   "execution_count": null,
   "id": "506e648f-4718-43b4-972c-5f25bc692722",
   "metadata": {},
   "outputs": [],
   "source": []
  }
 ],
 "metadata": {
  "kernelspec": {
   "display_name": "Python [conda env:base] *",
   "language": "python",
   "name": "conda-base-py"
  },
  "language_info": {
   "codemirror_mode": {
    "name": "ipython",
    "version": 3
   },
   "file_extension": ".py",
   "mimetype": "text/x-python",
   "name": "python",
   "nbconvert_exporter": "python",
   "pygments_lexer": "ipython3",
   "version": "3.12.7"
  }
 },
 "nbformat": 4,
 "nbformat_minor": 5
}
