{
 "cells": [
  {
   "cell_type": "markdown",
   "id": "6f8ea677-b61d-4764-abbe-b1f430777b7d",
   "metadata": {},
   "source": [
    "### Análise de Sentimentos com NLP Clássico\n",
    "\n",
    "A Análise de Sentimentos é uma tarefa do Processamento de Linguagem Natural (NLP) que busca identificar se um texto expressa uma opinião positiva, negativa ou neutra. Esta técnica é amplamente utilizada em análises de redes sociais, avaliações de produtos, feedbacks de clientes e outros contextos.\n",
    "\n",
    "Neste notebook, utilizaremos o dataset de análises de filmes do IMDb, disponível no NLTK. Vamos aplicar técnicas de pré-processamento, vetorização com Bag of Words e TF-IDF, e classificar os textos usando algoritmos de Machine Learning como Naive Bayes e SVM.\n"
   ]
  },
  {
   "cell_type": "markdown",
   "id": "4292f5e1-7b52-4d1c-bdf7-bac5c4733ca7",
   "metadata": {},
   "source": [
    "### 📦 Imports e Carregamento dos Dados"
   ]
  },
  {
   "cell_type": "code",
   "execution_count": 35,
   "id": "f1b997e7-aa5e-4b1d-ab0d-86cd02058643",
   "metadata": {},
   "outputs": [
    {
     "name": "stderr",
     "output_type": "stream",
     "text": [
      "[nltk_data] Downloading package movie_reviews to C:\\Users\\Jorge\n",
      "[nltk_data]     Maques/nltk_data...\n",
      "[nltk_data]   Package movie_reviews is already up-to-date!\n",
      "[nltk_data] Downloading package punkt to C:\\Users\\Jorge\n",
      "[nltk_data]     Maques/nltk_data...\n",
      "[nltk_data]   Package punkt is already up-to-date!\n"
     ]
    },
    {
     "data": {
      "text/plain": [
       "True"
      ]
     },
     "execution_count": 35,
     "metadata": {},
     "output_type": "execute_result"
    }
   ],
   "source": [
    "import nltk\n",
    "import random\n",
    "import pandas as pd\n",
    "import numpy as np\n",
    "import string\n",
    "\n",
    "from nltk.corpus import movie_reviews\n",
    "from sklearn.model_selection import train_test_split\n",
    "from sklearn.feature_extraction.text import CountVectorizer, TfidfVectorizer\n",
    "from sklearn.naive_bayes import MultinomialNB\n",
    "from sklearn.svm import LinearSVC\n",
    "from sklearn.metrics import classification_report, confusion_matrix\n",
    "from sklearn.metrics import accuracy_score, precision_score, recall_score, f1_score, confusion_matrix, ConfusionMatrixDisplay\n",
    "\n",
    "from nltk.tokenize import word_tokenize\n",
    "from nltk.corpus import stopwords\n",
    "from nltk.tokenize import TreebankWordTokenizer\n",
    "\n",
    "import seaborn as sns\n",
    "import matplotlib.pyplot as plt\n",
    "\n",
    "nltk.download('movie_reviews')\n",
    "nltk.download('punkt')"
   ]
  },
  {
   "cell_type": "code",
   "execution_count": 36,
   "id": "13941667-89bb-4d3d-9d1f-ae160d9b9f35",
   "metadata": {},
   "outputs": [
    {
     "data": {
      "text/html": [
       "<div>\n",
       "<style scoped>\n",
       "    .dataframe tbody tr th:only-of-type {\n",
       "        vertical-align: middle;\n",
       "    }\n",
       "\n",
       "    .dataframe tbody tr th {\n",
       "        vertical-align: top;\n",
       "    }\n",
       "\n",
       "    .dataframe thead th {\n",
       "        text-align: right;\n",
       "    }\n",
       "</style>\n",
       "<table border=\"1\" class=\"dataframe\">\n",
       "  <thead>\n",
       "    <tr style=\"text-align: right;\">\n",
       "      <th></th>\n",
       "      <th>texto</th>\n",
       "      <th>sentimento</th>\n",
       "    </tr>\n",
       "  </thead>\n",
       "  <tbody>\n",
       "    <tr>\n",
       "      <th>0</th>\n",
       "      <td>when walt disney pictures announced a live - a...</td>\n",
       "      <td>neg</td>\n",
       "    </tr>\n",
       "    <tr>\n",
       "      <th>1</th>\n",
       "      <td>plot : a dude and his brother are driving cros...</td>\n",
       "      <td>pos</td>\n",
       "    </tr>\n",
       "    <tr>\n",
       "      <th>2</th>\n",
       "      <td>woof ! too bad that leap of faith was the titl...</td>\n",
       "      <td>neg</td>\n",
       "    </tr>\n",
       "    <tr>\n",
       "      <th>3</th>\n",
       "      <td>if you had a chance to create a genetically pe...</td>\n",
       "      <td>pos</td>\n",
       "    </tr>\n",
       "    <tr>\n",
       "      <th>4</th>\n",
       "      <td>renee zellweger stars as sonia , a young jewis...</td>\n",
       "      <td>neg</td>\n",
       "    </tr>\n",
       "  </tbody>\n",
       "</table>\n",
       "</div>"
      ],
      "text/plain": [
       "                                               texto sentimento\n",
       "0  when walt disney pictures announced a live - a...        neg\n",
       "1  plot : a dude and his brother are driving cros...        pos\n",
       "2  woof ! too bad that leap of faith was the titl...        neg\n",
       "3  if you had a chance to create a genetically pe...        pos\n",
       "4  renee zellweger stars as sonia , a young jewis...        neg"
      ]
     },
     "execution_count": 36,
     "metadata": {},
     "output_type": "execute_result"
    }
   ],
   "source": [
    "# Carregar e embaralhar os dados\n",
    "documentos = [(list(movie_reviews.words(fileid)), category)\n",
    "              for category in movie_reviews.categories()\n",
    "              for fileid in movie_reviews.fileids(category)]\n",
    "random.shuffle(documentos)\n",
    "\n",
    "# Transformar em DataFrame\n",
    "textos = [\" \".join(palavras) for palavras, _ in documentos]\n",
    "labels = [categoria for _, categoria in documentos]\n",
    "\n",
    "df = pd.DataFrame({'texto': textos, 'sentimento': labels})\n",
    "df.head()"
   ]
  },
  {
   "cell_type": "markdown",
   "id": "1f52b2a1-c3c3-4c93-b51b-91f96dd905d5",
   "metadata": {},
   "source": [
    "### 🧹 Pré-processamento\n",
    "\n",
    "Aplicamos uma função de pré-processamento que remove pontuações, transforma o texto em letras minúsculas e tokeniza os dados, preparando-os para a vetorização."
   ]
  },
  {
   "cell_type": "code",
   "execution_count": 37,
   "id": "866855ff-1dbb-489e-af26-875d24fbd6dc",
   "metadata": {
    "scrolled": true
   },
   "outputs": [
    {
     "name": "stderr",
     "output_type": "stream",
     "text": [
      "[nltk_data] Downloading package stopwords to C:\\Users\\Jorge\n",
      "[nltk_data]     Maques/nltk_data...\n",
      "[nltk_data]   Package stopwords is already up-to-date!\n"
     ]
    },
    {
     "data": {
      "text/html": [
       "<div>\n",
       "<style scoped>\n",
       "    .dataframe tbody tr th:only-of-type {\n",
       "        vertical-align: middle;\n",
       "    }\n",
       "\n",
       "    .dataframe tbody tr th {\n",
       "        vertical-align: top;\n",
       "    }\n",
       "\n",
       "    .dataframe thead th {\n",
       "        text-align: right;\n",
       "    }\n",
       "</style>\n",
       "<table border=\"1\" class=\"dataframe\">\n",
       "  <thead>\n",
       "    <tr style=\"text-align: right;\">\n",
       "      <th></th>\n",
       "      <th>texto</th>\n",
       "      <th>texto_limpo</th>\n",
       "      <th>sentimento</th>\n",
       "    </tr>\n",
       "  </thead>\n",
       "  <tbody>\n",
       "    <tr>\n",
       "      <th>0</th>\n",
       "      <td>when walt disney pictures announced a live - a...</td>\n",
       "      <td>walt disney pictures announced live action fea...</td>\n",
       "      <td>neg</td>\n",
       "    </tr>\n",
       "    <tr>\n",
       "      <th>1</th>\n",
       "      <td>plot : a dude and his brother are driving cros...</td>\n",
       "      <td>plot dude brother driving cross country decide...</td>\n",
       "      <td>pos</td>\n",
       "    </tr>\n",
       "    <tr>\n",
       "      <th>2</th>\n",
       "      <td>woof ! too bad that leap of faith was the titl...</td>\n",
       "      <td>woof bad leap faith title comedy starring stev...</td>\n",
       "      <td>neg</td>\n",
       "    </tr>\n",
       "    <tr>\n",
       "      <th>3</th>\n",
       "      <td>if you had a chance to create a genetically pe...</td>\n",
       "      <td>chance create genetically perfect child would ...</td>\n",
       "      <td>pos</td>\n",
       "    </tr>\n",
       "    <tr>\n",
       "      <th>4</th>\n",
       "      <td>renee zellweger stars as sonia , a young jewis...</td>\n",
       "      <td>renee zellweger stars sonia young jewish wife ...</td>\n",
       "      <td>neg</td>\n",
       "    </tr>\n",
       "  </tbody>\n",
       "</table>\n",
       "</div>"
      ],
      "text/plain": [
       "                                               texto  \\\n",
       "0  when walt disney pictures announced a live - a...   \n",
       "1  plot : a dude and his brother are driving cros...   \n",
       "2  woof ! too bad that leap of faith was the titl...   \n",
       "3  if you had a chance to create a genetically pe...   \n",
       "4  renee zellweger stars as sonia , a young jewis...   \n",
       "\n",
       "                                         texto_limpo sentimento  \n",
       "0  walt disney pictures announced live action fea...        neg  \n",
       "1  plot dude brother driving cross country decide...        pos  \n",
       "2  woof bad leap faith title comedy starring stev...        neg  \n",
       "3  chance create genetically perfect child would ...        pos  \n",
       "4  renee zellweger stars sonia young jewish wife ...        neg  "
      ]
     },
     "execution_count": 37,
     "metadata": {},
     "output_type": "execute_result"
    }
   ],
   "source": [
    "nltk.download('stopwords')\n",
    "stop_words = set(stopwords.words('english'))\n",
    "\n",
    "tokenizer = TreebankWordTokenizer()\n",
    "\n",
    "def preprocess(text):\n",
    "    tokens = tokenizer.tokenize(text.lower())\n",
    "    tokens = [t for t in tokens if t.isalpha()]\n",
    "    tokens = [t for t in tokens if t not in stop_words]\n",
    "    return \" \".join(tokens)\n",
    "\n",
    "df['texto_limpo'] = df['texto'].apply(preprocess)\n",
    "df[['texto', 'texto_limpo', 'sentimento']].head()\n"
   ]
  },
  {
   "cell_type": "markdown",
   "id": "b2de80fc-db5f-4442-b2dc-338a6e09b787",
   "metadata": {},
   "source": [
    "### 🧮 Representação dos Textos\n",
    "\n",
    "Utilizamos duas abordagens para converter os textos em vetores numéricos:\n",
    "\n",
    "- **Bag of Words (BoW)**: transforma os textos em vetores com base na frequência das palavras.\n",
    "- **TF-IDF**: leva em consideração a frequência das palavras, ajustando com base na importância da palavra no corpus."
   ]
  },
  {
   "cell_type": "code",
   "execution_count": 38,
   "id": "17c08d9f-fa31-4aaa-b084-7c725e8b499b",
   "metadata": {},
   "outputs": [],
   "source": [
    "# Separar treino e teste\n",
    "X_train, X_test, y_train, y_test = train_test_split(\n",
    "    df['texto_limpo'], df['sentimento'], test_size=0.2, random_state=42)\n",
    "\n",
    "# Bag of Words\n",
    "vectorizer_bow = CountVectorizer()\n",
    "X_train_bow = vectorizer_bow.fit_transform(X_train)\n",
    "X_test_bow = vectorizer_bow.transform(X_test)\n",
    "\n",
    "# TF-IDF\n",
    "vectorizer_tfidf = TfidfVectorizer()\n",
    "X_train_tfidf = vectorizer_tfidf.fit_transform(X_train)\n",
    "X_test_tfidf = vectorizer_tfidf.transform(X_test)"
   ]
  },
  {
   "cell_type": "markdown",
   "id": "7f8df4b5-1609-4840-a40e-9870e218132d",
   "metadata": {},
   "source": [
    "### 🤖 Treinamento de Modelos"
   ]
  },
  {
   "cell_type": "markdown",
   "id": "c7126915-d9e3-4b1a-81c1-ff32905186dd",
   "metadata": {},
   "source": [
    "- Naive Bayes com BoW"
   ]
  },
  {
   "cell_type": "code",
   "execution_count": 39,
   "id": "87a0e8c6-8385-4b67-83cb-9ac77b2a5720",
   "metadata": {},
   "outputs": [],
   "source": [
    "modelo_nb_bow = MultinomialNB()\n",
    "modelo_nb_bow.fit(X_train_bow, y_train)\n",
    "y_pred_nb_bow = modelo_nb_bow.predict(X_test_bow)"
   ]
  },
  {
   "cell_type": "markdown",
   "id": "ca2825b1-2d10-474a-b899-36f77ea4268e",
   "metadata": {},
   "source": [
    "- SVM com TF-IDF"
   ]
  },
  {
   "cell_type": "code",
   "execution_count": 40,
   "id": "37c8e2a6-3c85-4e06-a663-503c6749b8eb",
   "metadata": {},
   "outputs": [],
   "source": [
    "modelo_svm_tfidf = LinearSVC()\n",
    "modelo_svm_tfidf.fit(X_train_tfidf, y_train)\n",
    "y_pred_svm_tfidf = modelo_svm_tfidf.predict(X_test_tfidf)"
   ]
  },
  {
   "cell_type": "markdown",
   "id": "9d39ac16-e56c-417a-b6c6-3b46b8117bc6",
   "metadata": {},
   "source": [
    "### 📊 Avaliação e Comparação"
   ]
  },
  {
   "cell_type": "markdown",
   "id": "b5c9811e-5df3-43cf-9f28-0bdc056995d8",
   "metadata": {},
   "source": [
    "- Naive Bayes (BoW"
   ]
  },
  {
   "cell_type": "code",
   "execution_count": 41,
   "id": "3f6e9c24-933a-49c1-9df3-8657edd29807",
   "metadata": {},
   "outputs": [
    {
     "name": "stdout",
     "output_type": "stream",
     "text": [
      "Naive Bayes (BoW)\n",
      "              precision    recall  f1-score   support\n",
      "\n",
      "         neg       0.85      0.83      0.84       207\n",
      "         pos       0.82      0.84      0.83       193\n",
      "\n",
      "    accuracy                           0.83       400\n",
      "   macro avg       0.83      0.84      0.83       400\n",
      "weighted avg       0.84      0.83      0.84       400\n",
      "\n"
     ]
    },
    {
     "data": {
      "image/png": "[encoded data removed]",
      "text/plain": [
       "<Figure size 640x480 with 2 Axes>"
      ]
     },
     "metadata": {},
     "output_type": "display_data"
    }
   ],
   "source": [
    "print(\"Naive Bayes (BoW)\")\n",
    "print(classification_report(y_test, y_pred_nb_bow))\n",
    "\n",
    "sns.heatmap(confusion_matrix(y_test, y_pred_nb_bow), annot=True, fmt=\"d\", cmap=\"Blues\")\n",
    "plt.title(\"Matriz de Confusão - NB (BoW)\")\n",
    "plt.xlabel(\"Predito\")\n",
    "plt.ylabel(\"Real\")\n",
    "plt.show()"
   ]
  },
  {
   "cell_type": "markdown",
   "id": "55337b55-5b67-48a6-98ca-5a8555799242",
   "metadata": {},
   "source": [
    "- SVM (TF-IDF)"
   ]
  },
  {
   "cell_type": "code",
   "execution_count": 42,
   "id": "9b08a71c-408f-41c5-95cf-81696fbd5516",
   "metadata": {},
   "outputs": [
    {
     "name": "stdout",
     "output_type": "stream",
     "text": [
      "SVM (TF-IDF)\n",
      "              precision    recall  f1-score   support\n",
      "\n",
      "         neg       0.89      0.86      0.87       207\n",
      "         pos       0.85      0.89      0.87       193\n",
      "\n",
      "    accuracy                           0.87       400\n",
      "   macro avg       0.87      0.87      0.87       400\n",
      "weighted avg       0.87      0.87      0.87       400\n",
      "\n"
     ]
    },
    {
     "data": {
      "image/png": "[encoded data removed]",
      "text/plain": [
       "<Figure size 640x480 with 2 Axes>"
      ]
     },
     "metadata": {},
     "output_type": "display_data"
    }
   ],
   "source": [
    "print(\"SVM (TF-IDF)\")\n",
    "print(classification_report(y_test, y_pred_svm_tfidf))\n",
    "\n",
    "sns.heatmap(confusion_matrix(y_test, y_pred_svm_tfidf), annot=True, fmt=\"d\", cmap=\"Greens\")\n",
    "plt.title(\"Matriz de Confusão - SVM (TF-IDF)\")\n",
    "plt.xlabel(\"Predito\")\n",
    "plt.ylabel(\"Real\")\n",
    "plt.show()"
   ]
  },
  {
   "cell_type": "markdown",
   "id": "f4de32e7-c104-4131-9f0b-b097abf9abf6",
   "metadata": {},
   "source": [
    "### 📌 Matriz de Confusão"
   ]
  },
  {
   "cell_type": "code",
   "execution_count": 43,
   "id": "6b370902-1770-4b60-b30e-7591c840db33",
   "metadata": {},
   "outputs": [
    {
     "data": {
      "image/png": "[encoded data removed]",
      "text/plain": [
       "<Figure size 640x480 with 2 Axes>"
      ]
     },
     "metadata": {},
     "output_type": "display_data"
    },
    {
     "data": {
      "image/png": "[encoded data removed]",
      "text/plain": [
       "<Figure size 640x480 with 2 Axes>"
      ]
     },
     "metadata": {},
     "output_type": "display_data"
    }
   ],
   "source": [
    "# Matriz de confusão para SVM (TF-IDF)\n",
    "cm_svm = confusion_matrix(y_test, y_pred_svm)\n",
    "sns.heatmap(cm_svm, annot=True, fmt='d', cmap='Blues', xticklabels=['neg', 'pos'], yticklabels=['neg', 'pos'])\n",
    "plt.xlabel('Previsto')\n",
    "plt.ylabel('Real')\n",
    "plt.title('Matriz de Confusão - SVM com TF-IDF')\n",
    "plt.show()\n",
    "\n",
    "# Matriz de confusão para NB (BoW)\n",
    "cm_nb = confusion_matrix(y_test, y_pred_nb)\n",
    "sns.heatmap(cm_nb, annot=True, fmt='d', cmap='Greens', xticklabels=['neg', 'pos'], yticklabels=['neg', 'pos'])\n",
    "plt.xlabel('Previsto')\n",
    "plt.ylabel('Real')\n",
    "plt.title('Matriz de Confusão - Naive Bayes com BoW')\n",
    "plt.show()"
   ]
  },
  {
   "cell_type": "markdown",
   "id": "54085bf7-0bc1-4c90-ad00-b8735e15f22a",
   "metadata": {},
   "source": [
    "### ✅ Testes com frases manuais\n",
    "\n",
    "Realizamos testes manuais com frases não vistas pelos modelos, para verificar sua performance em exemplos reais."
   ]
  },
  {
   "cell_type": "code",
   "execution_count": 44,
   "id": "630a51a8-1f1f-4f7e-9dec-fba87392664e",
   "metadata": {},
   "outputs": [
    {
     "name": "stdout",
     "output_type": "stream",
     "text": [
      "=== SVM com TF-IDF ===\n",
      "Frase: 'esse filme foi excelente' => Sentimento previsto: neg\n",
      "Frase: 'pior filme que já vi' => Sentimento previsto: neg\n",
      "\n",
      "=== Naive Bayes com BoW ===\n",
      "Frase: 'esse filme foi excelente' => Sentimento previsto: pos\n",
      "Frase: 'pior filme que já vi' => Sentimento previsto: neg\n"
     ]
    }
   ],
   "source": [
    "def testar_sentimento(frase, modelo, vetorizar):\n",
    "    texto_limpo = preprocess(frase)\n",
    "    texto_vetor = vetorizar.transform([texto_limpo])\n",
    "    pred = modelo.predict(texto_vetor)[0]\n",
    "    print(f\"Frase: '{frase}' => Sentimento previsto: {pred}\")\n",
    "\n",
    "print(\"=== SVM com TF-IDF ===\")\n",
    "testar_sentimento(\"esse filme foi excelente\", modelo_svm_tfidf, vectorizer_tfidf)\n",
    "testar_sentimento(\"pior filme que já vi\", modelo_svm_tfidf, vectorizer_tfidf)\n",
    "\n",
    "print(\"\\n=== Naive Bayes com BoW ===\")\n",
    "testar_sentimento(\"esse filme foi excelente\", modelo_nb_bow, vectorizer_bow)\n",
    "testar_sentimento(\"pior filme que já vi\", modelo_nb_bow, vectorizer_bow)"
   ]
  },
  {
   "cell_type": "markdown",
   "id": "c7a46b68-adb3-4c23-9a83-011965db257a",
   "metadata": {},
   "source": [
    "### ✅ Visualização de palavras pro classe\n",
    "\n",
    "Utilizamos `CountVectorizer` para identificar as palavras mais frequentes em cada classe, proporcionando uma visão intuitiva das associações semânticas."
   ]
  },
  {
   "cell_type": "code",
   "execution_count": 45,
   "id": "22139a82-0d7c-49e4-a4e7-adab6703c594",
   "metadata": {},
   "outputs": [
    {
     "name": "stdout",
     "output_type": "stream",
     "text": [
      "🔵 Palavras mais associadas a sentimentos positivos (SVM-TFIDF):\n",
      "others: 0.9331\n",
      "seen: 0.9459\n",
      "family: 0.9460\n",
      "hilarious: 0.9769\n",
      "truman: 1.0403\n",
      "fun: 1.0643\n",
      "life: 1.2476\n",
      "also: 1.2532\n",
      "well: 1.4495\n",
      "great: 1.4832\n",
      "\n",
      "🔴 Palavras mais associadas a sentimentos negativos (SVM-TFIDF):\n",
      "bad: -2.4123\n",
      "plot: -1.5999\n",
      "worst: -1.5066\n",
      "supposed: -1.3504\n",
      "nothing: -1.3290\n",
      "boring: -1.2563\n",
      "unfortunately: -1.2524\n",
      "script: -1.2391\n",
      "could: -1.2217\n",
      "even: -1.1591\n"
     ]
    }
   ],
   "source": [
    "# Palavras mais relevantes no modelo SVM com TF-IDF\n",
    "feature_names = vectorizer_tfidf.get_feature_names_out()\n",
    "coef = modelo_svm_tfidf.coef_[0]\n",
    "\n",
    "# Top palavras positivas e negativas\n",
    "top_pos = np.argsort(coef)[-10:]\n",
    "top_neg = np.argsort(coef)[:10]\n",
    "\n",
    "print(\"🔵 Palavras mais associadas a sentimentos positivos (SVM-TFIDF):\")\n",
    "for i in top_pos:\n",
    "    print(f\"{feature_names[i]}: {coef[i]:.4f}\")\n",
    "\n",
    "print(\"\\n🔴 Palavras mais associadas a sentimentos negativos (SVM-TFIDF):\")\n",
    "for i in top_neg:\n",
    "    print(f\"{feature_names[i]}: {coef[i]:.4f}\")"
   ]
  },
  {
   "cell_type": "markdown",
   "id": "6f6b4dce-674d-421c-8c15-f66966867fba",
   "metadata": {},
   "source": [
    "### ✅ Comparação entre modelos"
   ]
  },
  {
   "cell_type": "code",
   "execution_count": 46,
   "id": "0b6464f9-4118-4ee7-a92c-96fe71efc990",
   "metadata": {},
   "outputs": [
    {
     "name": "stdout",
     "output_type": "stream",
     "text": [
      "=== SVM com TF-IDF ===\n",
      "Acurácia: 0.4775\n",
      "Precisão: 0.4595959595959596\n",
      "Recall: 0.47150259067357514\n",
      "F1-score: 0.46547314578005117\n",
      "\n",
      "=== Naive Bayes com BoW ===\n",
      "Acurácia: 0.525\n",
      "Precisão: 0.5077720207253886\n",
      "Recall: 0.5077720207253886\n",
      "F1-score: 0.5077720207253886\n",
      "\n"
     ]
    }
   ],
   "source": [
    "def avaliar_modelo(nome, y_true, y_pred):\n",
    "    print(f\"=== {nome} ===\")\n",
    "    print(\"Acurácia:\", accuracy_score(y_true, y_pred))\n",
    "    print(\"Precisão:\", precision_score(y_true, y_pred, pos_label='pos'))\n",
    "    print(\"Recall:\", recall_score(y_true, y_pred, pos_label='pos'))\n",
    "    print(\"F1-score:\", f1_score(y_true, y_pred, pos_label='pos'))\n",
    "    print()\n",
    "\n",
    "avaliar_modelo(\"SVM com TF-IDF\", y_test, y_pred_svm)\n",
    "avaliar_modelo(\"Naive Bayes com BoW\", y_test, y_pred_nb)"
   ]
  },
  {
   "cell_type": "markdown",
   "id": "aa377a6e-12ce-4827-9b8e-5e36a2b4339f",
   "metadata": {},
   "source": [
    "### ✅ Análise de erros\n",
    "\n",
    "Analisamos as previsões incorretas para entender onde os modelos estão falhando. Essa etapa é essencial para futuras melhorias."
   ]
  },
  {
   "cell_type": "code",
   "execution_count": 47,
   "id": "f8d0de33-346a-43d5-b20b-d4b3b60f502f",
   "metadata": {},
   "outputs": [
    {
     "name": "stdout",
     "output_type": "stream",
     "text": [
      "Alguns exemplos de erros (SVM):\n",
      "                                                  Texto Real Previsto\n",
      "1987  arye cross courteney cox star pair bostonians ...  neg      pos\n",
      "1924  never confused watching movie meet joe black p...  neg      pos\n",
      "1959  funny expectations defeated good ways ghost da...  neg      pos\n",
      "1440  first heard scream told spoof horror movies ma...  pos      neg\n",
      "1103  numbers film introduces characters situations ...  neg      pos\n"
     ]
    }
   ],
   "source": [
    "# Criar um DataFrame com previsões incorretas do SVM\n",
    "df_erros = pd.DataFrame({'Texto': X_test, 'Real': y_test, 'Previsto': y_pred_svm})\n",
    "erros = df_erros[df_erros['Real'] != df_erros['Previsto']]\n",
    "\n",
    "print(\"Alguns exemplos de erros (SVM):\")\n",
    "print(erros.sample(5, random_state=42))"
   ]
  },
  {
   "cell_type": "markdown",
   "id": "73e54e4c-37ba-4a5a-b3ec-a12141eaf3ca",
   "metadata": {},
   "source": [
    "### Conclusão\n",
    "\n",
    "Este projeto demonstrou como realizar uma Análise de Sentimentos utilizando técnicas clássicas de NLP e Machine Learning.\n",
    "\n",
    "- O modelo **Naive Bayes com BoW** apresentou uma performance satisfatória, especialmente pela sua simplicidade e eficiência.\n",
    "- O modelo **SVM com TF-IDF** obteve resultados superiores em termos de acurácia e capacidade de generalização.\n",
    "\n",
    "Além da avaliação quantitativa, realizamos testes manuais, visualizações e análise de erros, que mostraram os pontos fortes e fracos de cada abordagem.\n",
    "\n",
    "Este trabalho serve como base sólida para análises mais avançadas no futuro, incluindo o uso de embeddings contextuais e redes neurais.\n"
   ]
  },
  {
   "cell_type": "code",
   "execution_count": null,
   "id": "18784c11-117a-4419-a8c5-c4be351c6530",
   "metadata": {},
   "outputs": [],
   "source": []
  }
 ],
 "metadata": {
  "kernelspec": {
   "display_name": "Python [conda env:base] *",
   "language": "python",
   "name": "conda-base-py"
  },
  "language_info": {
   "codemirror_mode": {
    "name": "ipython",
    "version": 3
   },
   "file_extension": ".py",
   "mimetype": "text/x-python",
   "name": "python",
   "nbconvert_exporter": "python",
   "pygments_lexer": "ipython3",
   "version": "3.12.7"
  }
 },
 "nbformat": 4,
 "nbformat_minor": 5
}
