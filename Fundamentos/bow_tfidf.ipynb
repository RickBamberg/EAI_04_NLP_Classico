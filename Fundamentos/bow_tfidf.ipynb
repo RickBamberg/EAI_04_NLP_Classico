{
 "cells": [
  {
   "cell_type": "markdown",
   "id": "4d8a91b6-0f47-4d3e-802f-426ea235a178",
   "metadata": {},
   "source": [
    "### 📂 1. Carregando os dados"
   ]
  },
  {
   "cell_type": "code",
   "execution_count": 4,
   "id": "c5775550-639e-496f-9324-e04bb9b2487a",
   "metadata": {},
   "outputs": [],
   "source": [
    "import pandas as pd\n",
    "import re\n",
    "import nltk\n",
    "from nltk.corpus import stopwords\n",
    "from sklearn.feature_extraction.text import CountVectorizer\n",
    "from sklearn.feature_extraction.text import TfidfVectorizer"
   ]
  },
  {
   "cell_type": "code",
   "execution_count": 5,
   "id": "d86d6476-468c-419e-9a85-8e8a247c710a",
   "metadata": {},
   "outputs": [
    {
     "data": {
      "text/html": [
       "<div>\n",
       "<style scoped>\n",
       "    .dataframe tbody tr th:only-of-type {\n",
       "        vertical-align: middle;\n",
       "    }\n",
       "\n",
       "    .dataframe tbody tr th {\n",
       "        vertical-align: top;\n",
       "    }\n",
       "\n",
       "    .dataframe thead th {\n",
       "        text-align: right;\n",
       "    }\n",
       "</style>\n",
       "<table border=\"1\" class=\"dataframe\">\n",
       "  <thead>\n",
       "    <tr style=\"text-align: right;\">\n",
       "      <th></th>\n",
       "      <th>texto</th>\n",
       "      <th>category</th>\n",
       "    </tr>\n",
       "  </thead>\n",
       "  <tbody>\n",
       "    <tr>\n",
       "      <th>0</th>\n",
       "      <td>O ministro anunciou cortes no orçamento federal.</td>\n",
       "      <td>política</td>\n",
       "    </tr>\n",
       "    <tr>\n",
       "      <th>1</th>\n",
       "      <td>A equipe conquistou o campeonato estadual.</td>\n",
       "      <td>esporte</td>\n",
       "    </tr>\n",
       "    <tr>\n",
       "      <th>2</th>\n",
       "      <td>O técnico anunciou a escalação para o próximo ...</td>\n",
       "      <td>esporte</td>\n",
       "    </tr>\n",
       "    <tr>\n",
       "      <th>3</th>\n",
       "      <td>Houve protestos contra a nova legislação aprov...</td>\n",
       "      <td>política</td>\n",
       "    </tr>\n",
       "    <tr>\n",
       "      <th>4</th>\n",
       "      <td>Houve protestos contra a nova legislação aprov...</td>\n",
       "      <td>política</td>\n",
       "    </tr>\n",
       "  </tbody>\n",
       "</table>\n",
       "</div>"
      ],
      "text/plain": [
       "                                               texto  category\n",
       "0   O ministro anunciou cortes no orçamento federal.  política\n",
       "1         A equipe conquistou o campeonato estadual.   esporte\n",
       "2  O técnico anunciou a escalação para o próximo ...   esporte\n",
       "3  Houve protestos contra a nova legislação aprov...  política\n",
       "4  Houve protestos contra a nova legislação aprov...  política"
      ]
     },
     "execution_count": 5,
     "metadata": {},
     "output_type": "execute_result"
    }
   ],
   "source": [
    "# Carregar o dataset\n",
    "df = pd.read_csv(\"data/noticias_sinteticas.csv\")\n",
    "\n",
    "# Visualizar as primeiras linhas\n",
    "df.head()"
   ]
  },
  {
   "cell_type": "markdown",
   "id": "bde0cf3f-fe25-4cee-8c79-13b73c421c8c",
   "metadata": {},
   "source": [
    "### 🧹 2. Pré-processamento de texto"
   ]
  },
  {
   "cell_type": "code",
   "execution_count": 6,
   "id": "fd6b383f-43e5-441e-949b-e376ee271211",
   "metadata": {},
   "outputs": [
    {
     "name": "stderr",
     "output_type": "stream",
     "text": [
      "[nltk_data] Downloading package stopwords to C:\\Users\\Jorge\n",
      "[nltk_data]     Maques/nltk_data...\n",
      "[nltk_data]   Package stopwords is already up-to-date!\n"
     ]
    },
    {
     "data": {
      "text/html": [
       "<div>\n",
       "<style scoped>\n",
       "    .dataframe tbody tr th:only-of-type {\n",
       "        vertical-align: middle;\n",
       "    }\n",
       "\n",
       "    .dataframe tbody tr th {\n",
       "        vertical-align: top;\n",
       "    }\n",
       "\n",
       "    .dataframe thead th {\n",
       "        text-align: right;\n",
       "    }\n",
       "</style>\n",
       "<table border=\"1\" class=\"dataframe\">\n",
       "  <thead>\n",
       "    <tr style=\"text-align: right;\">\n",
       "      <th></th>\n",
       "      <th>texto</th>\n",
       "      <th>texto_limpo</th>\n",
       "    </tr>\n",
       "  </thead>\n",
       "  <tbody>\n",
       "    <tr>\n",
       "      <th>0</th>\n",
       "      <td>O ministro anunciou cortes no orçamento federal.</td>\n",
       "      <td>ministro anunciou cortes orçamento federal</td>\n",
       "    </tr>\n",
       "    <tr>\n",
       "      <th>1</th>\n",
       "      <td>A equipe conquistou o campeonato estadual.</td>\n",
       "      <td>equipe conquistou campeonato estadual</td>\n",
       "    </tr>\n",
       "    <tr>\n",
       "      <th>2</th>\n",
       "      <td>O técnico anunciou a escalação para o próximo ...</td>\n",
       "      <td>técnico anunciou escalação próximo jogo</td>\n",
       "    </tr>\n",
       "    <tr>\n",
       "      <th>3</th>\n",
       "      <td>Houve protestos contra a nova legislação aprov...</td>\n",
       "      <td>protestos contra nova legislação aprovada</td>\n",
       "    </tr>\n",
       "    <tr>\n",
       "      <th>4</th>\n",
       "      <td>Houve protestos contra a nova legislação aprov...</td>\n",
       "      <td>protestos contra nova legislação aprovada</td>\n",
       "    </tr>\n",
       "  </tbody>\n",
       "</table>\n",
       "</div>"
      ],
      "text/plain": [
       "                                               texto  \\\n",
       "0   O ministro anunciou cortes no orçamento federal.   \n",
       "1         A equipe conquistou o campeonato estadual.   \n",
       "2  O técnico anunciou a escalação para o próximo ...   \n",
       "3  Houve protestos contra a nova legislação aprov...   \n",
       "4  Houve protestos contra a nova legislação aprov...   \n",
       "\n",
       "                                  texto_limpo  \n",
       "0  ministro anunciou cortes orçamento federal  \n",
       "1       equipe conquistou campeonato estadual  \n",
       "2     técnico anunciou escalação próximo jogo  \n",
       "3   protestos contra nova legislação aprovada  \n",
       "4   protestos contra nova legislação aprovada  "
      ]
     },
     "execution_count": 6,
     "metadata": {},
     "output_type": "execute_result"
    }
   ],
   "source": [
    "nltk.download('stopwords')\n",
    "stopwords_pt = set(stopwords.words('portuguese'))\n",
    "\n",
    "def preprocessar_texto(texto):\n",
    "    texto = texto.lower()\n",
    "    texto = re.sub(r'[^\\w\\s]', '', texto)  # Remove pontuação\n",
    "    palavras = texto.split()\n",
    "    palavras = [p for p in palavras if p not in stopwords_pt]\n",
    "    return ' '.join(palavras)\n",
    "\n",
    "# Aplicar o pré-processamento\n",
    "df['texto_limpo'] = df['texto'].apply(preprocessar_texto)\n",
    "\n",
    "# Visualizar resultado\n",
    "df[['texto', 'texto_limpo']].head()"
   ]
  },
  {
   "cell_type": "markdown",
   "id": "e246ca6a-f0cf-44fb-8119-4fe45de1ae1c",
   "metadata": {},
   "source": [
    "### 🧮 3. Vetorização com Bag of Words (BoW)"
   ]
  },
  {
   "cell_type": "code",
   "execution_count": 7,
   "id": "093bbe82-0cc7-4dd2-83df-b18b9667ef2d",
   "metadata": {},
   "outputs": [
    {
     "name": "stdout",
     "output_type": "stream",
     "text": [
      "Dimensão da matriz BoW: (500, 85)\n",
      "Primeiras 10 palavras do vocabulário BoW:\n",
      "['acréscimos', 'adiada', 'alta', 'anunciaram', 'anunciou', 'aplicativo', 'apresentou', 'aprovada', 'aprovou', 'ator']\n"
     ]
    }
   ],
   "source": [
    "# Criar o vetor de contagem (BoW)\n",
    "vectorizer_bow = CountVectorizer()\n",
    "X_bow = vectorizer_bow.fit_transform(df['texto_limpo'])\n",
    "\n",
    "print(f\"Dimensão da matriz BoW: {X_bow.shape}\")\n",
    "\n",
    "# Exemplo: mostrar as 10 primeiras palavras do vocabulário\n",
    "print(\"Primeiras 10 palavras do vocabulário BoW:\")\n",
    "print(list(vectorizer_bow.get_feature_names_out())[:10])"
   ]
  },
  {
   "cell_type": "markdown",
   "id": "88ff3a51-28e7-4cd9-9a26-2ff026414460",
   "metadata": {},
   "source": [
    "### 📊 4. Vetorização com TF-IDF"
   ]
  },
  {
   "cell_type": "code",
   "execution_count": 8,
   "id": "feac0c4d-4425-48cb-a86a-60e67cbb2e32",
   "metadata": {},
   "outputs": [
    {
     "name": "stdout",
     "output_type": "stream",
     "text": [
      "Dimensão da matriz TF-IDF: (500, 85)\n",
      "Primeiras 10 palavras do vocabulário TF-IDF:\n",
      "['acréscimos', 'adiada', 'alta', 'anunciaram', 'anunciou', 'aplicativo', 'apresentou', 'aprovada', 'aprovou', 'ator']\n"
     ]
    }
   ],
   "source": [
    "# Criar o vetor TF-IDF\n",
    "vectorizer_tfidf = TfidfVectorizer()\n",
    "X_tfidf = vectorizer_tfidf.fit_transform(df['texto_limpo'])\n",
    "\n",
    "print(f\"Dimensão da matriz TF-IDF: {X_tfidf.shape}\")\n",
    "\n",
    "# Exemplo: mostrar os scores TF-IDF das 10 primeiras palavras do vocabulário\n",
    "print(\"Primeiras 10 palavras do vocabulário TF-IDF:\")\n",
    "print(list(vectorizer_tfidf.get_feature_names_out())[:10])"
   ]
  },
  {
   "cell_type": "markdown",
   "id": "e29d11ed-c68c-4578-94e4-2b29a848d9d6",
   "metadata": {},
   "source": [
    "### 🔍 5. Comparação entre Bag of Words e TF-IDF"
   ]
  },
  {
   "cell_type": "code",
   "execution_count": 9,
   "id": "cbf978c0-412e-4dbc-ac1f-ec4d45f82581",
   "metadata": {},
   "outputs": [
    {
     "name": "stdout",
     "output_type": "stream",
     "text": [
      "Texto original:\n",
      "O ministro anunciou cortes no orçamento federal.\n",
      "\n",
      "Texto pré-processado:\n",
      "ministro anunciou cortes orçamento federal\n",
      "\n",
      "Palavras e valores BoW:\n",
      "anunciou: 1\n",
      "cortes: 1\n",
      "federal: 1\n",
      "ministro: 1\n",
      "orçamento: 1\n",
      "\n",
      "Palavras e valores TF-IDF:\n",
      "anunciou: 0.3496\n",
      "cortes: 0.4684\n",
      "federal: 0.4684\n",
      "ministro: 0.4684\n",
      "orçamento: 0.4684\n"
     ]
    }
   ],
   "source": [
    "# Escolher um índice para exemplo\n",
    "idx = 0\n",
    "\n",
    "print(\"Texto original:\")\n",
    "print(df.loc[idx, 'texto'])\n",
    "\n",
    "print(\"\\nTexto pré-processado:\")\n",
    "print(df.loc[idx, 'texto_limpo'])\n",
    "\n",
    "# Obter vocabulário das palavras para BoW e TF-IDF\n",
    "voc_bow = vectorizer_bow.get_feature_names_out()\n",
    "voc_tfidf = vectorizer_tfidf.get_feature_names_out()\n",
    "\n",
    "# Vetor BoW do documento escolhido (esparso para denso)\n",
    "vec_bow = X_bow[idx].toarray().flatten()\n",
    "\n",
    "# Vetor TF-IDF do documento escolhido\n",
    "vec_tfidf = X_tfidf[idx].toarray().flatten()\n",
    "\n",
    "# Mostrar palavras com valor > 0 e seus respectivos scores BoW e TF-IDF\n",
    "print(\"\\nPalavras e valores BoW:\")\n",
    "for palavra, valor in zip(voc_bow, vec_bow):\n",
    "    if valor > 0:\n",
    "        print(f\"{palavra}: {valor}\")\n",
    "\n",
    "print(\"\\nPalavras e valores TF-IDF:\")\n",
    "for palavra, valor in zip(voc_tfidf, vec_tfidf):\n",
    "    if valor > 0:\n",
    "        print(f\"{palavra}: {valor:.4f}\")"
   ]
  },
  {
   "cell_type": "markdown",
   "id": "06b95329-19fa-49b2-ac65-a9555418e615",
   "metadata": {},
   "source": [
    "### ✅ Conclusão: Bag of Words vs. TF-IDF\n",
    "\n",
    "Neste estudo, comparamos duas das principais técnicas de vetorização de texto:\n",
    "\n",
    "- **Bag of Words (BoW)** representa cada documento por meio da contagem de palavras, sem considerar o contexto ou a relevância dos termos no corpus.\n",
    "- **TF-IDF** (Term Frequency–Inverse Document Frequency) vai além, atribuindo pesos que refletem a importância das palavras, penalizando termos comuns e valorizando termos raros.\n",
    "\n",
    "### Exemplo prático\n",
    "\n",
    "- No texto: *\"O ministro anunciou cortes no orçamento federal\"*, todas as palavras receberam valor 1 no BoW, pois cada uma aparece apenas uma vez.\n",
    "- Já no TF-IDF, a palavra \"anunciou\" teve um peso menor, indicando que ela aparece com mais frequência no conjunto de documentos. Por outro lado, termos como \"orçamento\" e \"federal\" tiveram pesos maiores, indicando que são mais informativos para esse texto.\n",
    "\n",
    "### Conclusão\n",
    "\n",
    "- **BoW** é simples, rápido e pode ser suficiente para modelos mais básicos.\n",
    "- **TF-IDF** geralmente oferece melhores resultados em tarefas como classificação e busca textual, por capturar a relevância dos termos.\n"
   ]
  },
  {
   "cell_type": "code",
   "execution_count": null,
   "id": "4641c19a-ed1f-441d-a93f-4316f1e29d4c",
   "metadata": {},
   "outputs": [],
   "source": []
  }
 ],
 "metadata": {
  "kernelspec": {
   "display_name": "Python [conda env:base] *",
   "language": "python",
   "name": "conda-base-py"
  },
  "language_info": {
   "codemirror_mode": {
    "name": "ipython",
    "version": 3
   },
   "file_extension": ".py",
   "mimetype": "text/x-python",
   "name": "python",
   "nbconvert_exporter": "python",
   "pygments_lexer": "ipython3",
   "version": "3.12.7"
  }
 },
 "nbformat": 4,
 "nbformat_minor": 5
}
